{
 "cells": [
  {
   "cell_type": "code",
   "execution_count": 1,
   "id": "9e5503bc-c7eb-4f3e-9c1b-f8035f860bcc",
   "metadata": {},
   "outputs": [
    {
     "name": "stderr",
     "output_type": "stream",
     "text": [
      "\u001b[32m\u001b[1m   Resolving\u001b[22m\u001b[39m package versions...\n",
      "\u001b[32m\u001b[1m  No Changes\u001b[22m\u001b[39m to `~/venv/Project.toml`\n",
      "\u001b[32m\u001b[1m  No Changes\u001b[22m\u001b[39m to `~/venv/Manifest.toml`\n",
      "\u001b[32m\u001b[1m   Resolving\u001b[22m\u001b[39m package versions...\n",
      "\u001b[32m\u001b[1m  No Changes\u001b[22m\u001b[39m to `~/venv/Project.toml`\n",
      "\u001b[32m\u001b[1m  No Changes\u001b[22m\u001b[39m to `~/venv/Manifest.toml`\n"
     ]
    }
   ],
   "source": [
    "import Pkg\n",
    "Pkg.add(\"LinearAlgebra\")\n",
    "Pkg.add(\"Plots\")"
   ]
  },
  {
   "cell_type": "code",
   "execution_count": 101,
   "id": "7433d463-216e-4101-9113-054aed11c556",
   "metadata": {},
   "outputs": [],
   "source": [
    "using LinearAlgebra\n",
    "using Plots\n",
    "\n",
    "#Helps visualize various Linear Algbera Transformations in the 2-d space.\n",
    "function main()\n",
    "    \n",
    "    # VisualizeAxb()\n",
    "    # VisualizeAxbVectorwise()\n",
    "    # VisualizeIdentity()\n",
    "    # VisualizeRotationAndInversion()\n",
    "    # VisualizeTranspose()\n",
    "    # VisualizeShear()\n",
    "    # VisualizeLinearlyDependentVectors()\n",
    "    # VisualizeScaling()\n",
    "    # VisualizeCompositionRotateThenShear()\n",
    "    # VisualizeCompositionShearThenRotate()  \n",
    "    # VisualizeChangeOfBasis()\n",
    "    # VisualizeEigenValuesAndVectors()\n",
    "\n",
    "end\n",
    "main()"
   ]
  },
  {
   "cell_type": "code",
   "execution_count": 17,
   "id": "db70c274-193d-4950-b14c-ac6ffaead326",
   "metadata": {},
   "outputs": [
    {
     "data": {
      "text/plain": [
       "VisualizeIdentity (generic function with 1 method)"
      ]
     },
     "execution_count": 17,
     "metadata": {},
     "output_type": "execute_result"
    }
   ],
   "source": [
    "function VisualizeIdentity()\n",
    "    A=[1 0;0 1]\n",
    "    x = [1,1]\n",
    "    b = A*x\n",
    "    title = \"2-d Identity Matrix as basis Vectors \"\n",
    "    display(title)\n",
    "    Visualize(A,x,b,title)\n",
    "end"
   ]
  },
  {
   "cell_type": "code",
   "execution_count": 4,
   "id": "161f4c13-94e7-4462-8670-e7b0d2ab4a14",
   "metadata": {},
   "outputs": [
    {
     "data": {
      "text/plain": [
       "VisualizeRotationAndInversion (generic function with 1 method)"
      ]
     },
     "execution_count": 4,
     "metadata": {},
     "output_type": "execute_result"
    }
   ],
   "source": [
    "function VisualizeRotationAndInversion()        \n",
    "    x = [1,1]\n",
    "    c = cosd(90)\n",
    "    s = sind(90)    \n",
    "    title = \"Rotated by 90 degrees Anticlockwise\"\n",
    "    display(title)\n",
    "    A=[c -s;s c]\n",
    "    b = A*x\n",
    "    Visualize(A,x,b,title)\n",
    "    B = inv(A)\n",
    "    x = b\n",
    "    b = B*x\n",
    "    #A = B*A (A Inverse times A gives Identity). This helps visualize what inversion does to the basis vectors, leads to a counter clockwise rotation\n",
    "    #Visualize(A,x,b,title)\n",
    "    title = \"Inversion: counter clockwise 90 deg. rotaion back.\"\n",
    "    display(title)\n",
    "    Visualize(B,x,b,title)    \n",
    "end"
   ]
  },
  {
   "cell_type": "code",
   "execution_count": 5,
   "id": "a58d3903-0b67-40f0-afaa-1858a2a8644d",
   "metadata": {},
   "outputs": [
    {
     "data": {
      "text/plain": [
       "VisualizeShear (generic function with 1 method)"
      ]
     },
     "execution_count": 5,
     "metadata": {},
     "output_type": "execute_result"
    }
   ],
   "source": [
    "function VisualizeShear()        \n",
    "    x = [1,1]    \n",
    "    title = \"Shear\"\n",
    "    display(title)\n",
    "    A=[1 1;0 1]\n",
    "    b = A*x\n",
    "    Visualize(A,x,b,title)        \n",
    "end"
   ]
  },
  {
   "cell_type": "code",
   "execution_count": 39,
   "id": "073f4c3c-ff3e-4117-940f-a76f66619674",
   "metadata": {},
   "outputs": [
    {
     "data": {
      "text/plain": [
       "VisualizeTranspose (generic function with 1 method)"
      ]
     },
     "execution_count": 39,
     "metadata": {},
     "output_type": "execute_result"
    }
   ],
   "source": [
    "function VisualizeTranspose()        \n",
    "    x = [1,1]    \n",
    "    title = \"A before Transpose\"\n",
    "    display(title)\n",
    "    A=[1 2;3 0]\n",
    "    display(A)\n",
    "    b = A*x\n",
    "    Visualize(A,x,b,title) \n",
    "    title = \"A after Transpose\"\n",
    "    display(title)\n",
    "    B = Transpose(A)\n",
    "    display(B)\n",
    "    b = B*x\n",
    "    Visualize(B,x,b,title) \n",
    "end"
   ]
  },
  {
   "cell_type": "code",
   "execution_count": 7,
   "id": "bad314fd-923b-4724-8a43-8801b9b35d1d",
   "metadata": {},
   "outputs": [
    {
     "data": {
      "text/plain": [
       "VisualizeLinearlyDependentVectors (generic function with 1 method)"
      ]
     },
     "execution_count": 7,
     "metadata": {},
     "output_type": "execute_result"
    }
   ],
   "source": [
    "function VisualizeLinearlyDependentVectors()        \n",
    "    x = [1,1]    \n",
    "    display(\"1-d span of A, Inverse does not exist, determinant 0. Singular Matrix.\")\n",
    "    title = \"Linearly Dependent Vectors Rank of 1\\n squishes the space into a line.\"\n",
    "    display(title)\n",
    "    A=[2 -2;1 -1]\n",
    "    b = A*x\n",
    "    Visualize(A,x,b,title)        \n",
    "end"
   ]
  },
  {
   "cell_type": "code",
   "execution_count": 8,
   "id": "e4561f1d-ec0f-42f5-9b6f-b1e7ba931402",
   "metadata": {},
   "outputs": [
    {
     "data": {
      "text/plain": [
       "VisualizeScaling (generic function with 1 method)"
      ]
     },
     "execution_count": 8,
     "metadata": {},
     "output_type": "execute_result"
    }
   ],
   "source": [
    "function VisualizeScaling()\n",
    "    x = [1,1]    \n",
    "    title = \"Scaled -3x \"\n",
    "    display(title)\n",
    "    A=-3*[1 0;0 1]\n",
    "    b = A*x\n",
    "    Visualize(A,x,b,title)        \n",
    "end"
   ]
  },
  {
   "cell_type": "code",
   "execution_count": 9,
   "id": "995d8da1-36ee-417d-a718-42d601af0206",
   "metadata": {},
   "outputs": [
    {
     "data": {
      "text/plain": [
       "VisualizeCompositionRotateThenShear (generic function with 1 method)"
      ]
     },
     "execution_count": 9,
     "metadata": {},
     "output_type": "execute_result"
    }
   ],
   "source": [
    "function VisualizeCompositionRotateThenShear()\n",
    "    x = [1,1]\n",
    "    c = cosd(90)\n",
    "    s = sind(90)    \n",
    "    title = \"A: Composition of 90 degress, \\n    anti-clockwise rot. then shearing.\\n \"\n",
    "    display(title)\n",
    "    A=[c -s;s c] #Rotate\n",
    "    B=[1 1;0 1]\n",
    "    b = B*(A*x)\n",
    "    Visualize(B*A,x,b,title)      \n",
    "end"
   ]
  },
  {
   "cell_type": "code",
   "execution_count": 10,
   "id": "7d32eb16-b37e-44e4-b8dd-6d402c4b7edb",
   "metadata": {},
   "outputs": [
    {
     "data": {
      "text/plain": [
       "VisualizeCompositionShearThenRotate (generic function with 1 method)"
      ]
     },
     "execution_count": 10,
     "metadata": {},
     "output_type": "execute_result"
    }
   ],
   "source": [
    "function VisualizeCompositionShearThenRotate()\n",
    "    x = [1,1]\n",
    "    c = cosd(90)\n",
    "    s = sind(90)    \n",
    "    title = \"A: Composition of Shearing then  90 degrees, \\n anti-clockwise rotation.\\n \"\n",
    "    display(title)\n",
    "    A=[c -s;s c] #Rotate\n",
    "    B=[1 1;0 1] #Shear\n",
    "    b = A*(B*x)\n",
    "    Visualize(A*B,x,b,title)      \n",
    "end"
   ]
  },
  {
   "cell_type": "code",
   "execution_count": 11,
   "id": "265d1c3c-cd13-4deb-b6d9-5a7c3fafe837",
   "metadata": {},
   "outputs": [
    {
     "data": {
      "text/plain": [
       "VisualizeChangeOfBasis (generic function with 1 method)"
      ]
     },
     "execution_count": 11,
     "metadata": {},
     "output_type": "execute_result"
    }
   ],
   "source": [
    "function VisualizeChangeOfBasis()\n",
    "    x = [1,1] \n",
    "    title = \"Change of Basis to [1 2];[0 1]\"\n",
    "    display(title)\n",
    "    A=[1 2;0 1] #New basis\n",
    "    b = A*x\n",
    "    Visualize(A,x,b,title)      \n",
    "end"
   ]
  },
  {
   "cell_type": "code",
   "execution_count": 12,
   "id": "1bbf6fde-efab-460a-8ae3-54d335680059",
   "metadata": {},
   "outputs": [
    {
     "data": {
      "text/plain": [
       "VisualizeEigenValuesAndVectors (generic function with 1 method)"
      ]
     },
     "execution_count": 12,
     "metadata": {},
     "output_type": "execute_result"
    }
   ],
   "source": [
    "function VisualizeEigenValuesAndVectors()\n",
    "    \n",
    "    x = [-1,1] \n",
    "    title= \"[-1 1]: Eigen Vector of A, Eigen Value 2\"\n",
    "    display(title)\n",
    "    A=[3 1;0 2]\n",
    "    b = A*x\n",
    "    Visualize(A,x,b,title)\n",
    "    x = [1,0] \n",
    "    title= \"[1 0]: Eigen Vector of A, Eigen Value 3\"\n",
    "    display(title)\n",
    "    A=[3 1;0 2]\n",
    "    b = A*x\n",
    "    Visualize(A,x,b,title)   \n",
    "    x = [-2, 1]\n",
    "    title= \"[-2 1] is not an Eigen Vector of A.\"\n",
    "    display(title)\n",
    "    b = A*x\n",
    "    Visualize(A,x,b,title)   \n",
    "end"
   ]
  },
  {
   "cell_type": "code",
   "execution_count": 91,
   "id": "08609afd-3120-4d1c-9deb-6fcefd8fc506",
   "metadata": {},
   "outputs": [
    {
     "data": {
      "text/plain": [
       "VisualizeAxb (generic function with 1 method)"
      ]
     },
     "execution_count": 91,
     "metadata": {},
     "output_type": "execute_result"
    }
   ],
   "source": [
    "function VisualizeAxb()\n",
    "    \n",
    "    A=[2 1;1 1] \n",
    "    x= [1,1]\n",
    "    b = A*x\n",
    "    Visualize(A,x,b,\"dot product\")\n",
    "end"
   ]
  },
  {
   "cell_type": "code",
   "execution_count": 97,
   "id": "3b55bedb-d147-40eb-99b8-d312615b8258",
   "metadata": {},
   "outputs": [
    {
     "data": {
      "text/plain": [
       "VisualizeAxbVectorwise (generic function with 1 method)"
      ]
     },
     "execution_count": 97,
     "metadata": {},
     "output_type": "execute_result"
    }
   ],
   "source": [
    "function VisualizeAxbVectorwise()\n",
    "    A=[2 1;1 1] \n",
    "    x=[1,1]\n",
    "    b = x[1,1]*A[:, 1]+x[2,1]*A[:, 2]\n",
    "    Visualize(A,x,b,\"Vectorwise\")\n",
    "    display(\"All xs make up the column space C(A) of A\")\n",
    "end"
   ]
  },
  {
   "cell_type": "code",
   "execution_count": 79,
   "id": "1975b6be-995d-422e-a724-8371cb23574d",
   "metadata": {},
   "outputs": [
    {
     "data": {
      "text/plain": [
       "Visualize (generic function with 2 methods)"
      ]
     },
     "execution_count": 79,
     "metadata": {},
     "output_type": "execute_result"
    }
   ],
   "source": [
    "function Visualize(A,x,b,title)\n",
    "    \n",
    "    print(\"Matrix A:\")\n",
    "    display(A)\n",
    "    print(\"Determinant of A:\")\n",
    "    display(det(A))\n",
    "    print(\"Vector x:\")\n",
    "    display(x)\n",
    "    print(\"Vector b:\")\n",
    "    display(b)\n",
    "    gridneg = -6\n",
    "    gridpos = 6\n",
    "    plt = plot( grid=true, aspect_ratio = :equal, xlims=(gridneg,gridpos), ylims=(gridneg,gridpos), gridlinewidth=0.5,legend=:bottomright )\n",
    "    plot!([0, A[1, 1]], [0, A[2, 1]], label=\"Vector A₁\", linewidth=2, arrow=true)\n",
    "    plot!([0, A[1, 2]], [0, A[2, 2]], label=\"Vector A₂\", linewidth=2, arrow=true)\n",
    "    plot!([0, x[1, 1]], [0, x[2, 1]], label=\"Vector x\", linewidth=2, arrow=true, )\n",
    "    plot!([0, b[1, 1]], [0, b[2, 1]], label=\"Vector b\", linewidth=2, arrow=true)\n",
    "    xticks!(gridneg:1:gridpos)\n",
    "    yticks!(gridneg:1:gridpos)\n",
    "    xlabel!(\"x₁\")\n",
    "    ylabel!(\"x₂\")\n",
    "    title!(\"Ax = b, \" * title)\n",
    "    gui()\n",
    "    display(plt)\n",
    "\n",
    "end"
   ]
  },
  {
   "cell_type": "code",
   "execution_count": 47,
   "id": "a942b672-1090-46b8-bb60-11355df38933",
   "metadata": {},
   "outputs": [
    {
     "data": {
      "text/plain": [
       "VisualizeThreeMatrices (generic function with 1 method)"
      ]
     },
     "execution_count": 47,
     "metadata": {},
     "output_type": "execute_result"
    }
   ],
   "source": [
    "function VisualizeThreeMatrices(A,B,C,title)\n",
    "    \n",
    "    print(\"Matrix:\")\n",
    "    display(A)\n",
    "    display(B)\n",
    "    display(C)\n",
    "    plt = plot( grid=true, aspect_ratio = :equal, xlims=(-4,4), ylims=(-4,4), gridlinewidth=0.5,legend=:bottomright )\n",
    "    plot!([0, A[1, 1]], [0, A[2, 1]], label=\"Vector A₁\", linewidth=2, arrow=true)\n",
    "    plot!([0, A[1, 2]], [0, A[2, 2]], label=\"Vector A₂\", linewidth=2, arrow=true)\n",
    "    plot!([0, B[1, 1]], [0, B[2, 1]], label=\"Vector B₁\", linewidth=2, arrow=true)\n",
    "    plot!([0, B[1, 2]], [0, B[2, 2]], label=\"Vector B₂\", linewidth=2, arrow=true)\n",
    "    plot!([0, C[1, 1]], [0, C[2, 1]], label=\"Vector C₁\", linewidth=2, arrow=true)\n",
    "    plot!([0, C[1, 2]], [0, C[2, 2]], label=\"Vector C₂\", linewidth=2, arrow=true)\n",
    "    xticks!(-4:1:4)\n",
    "    yticks!(-4:1:4)\n",
    "    xlabel!(\"x₁\")\n",
    "    ylabel!(\"x₂\")\n",
    "    title!(\"Matrix, \" * title)\n",
    "    gui()\n",
    "    display(plt)\n",
    "\n",
    "end"
   ]
  },
  {
   "cell_type": "code",
   "execution_count": null,
   "id": "b0453c47-3808-4289-9af6-31cc099d5986",
   "metadata": {},
   "outputs": [],
   "source": []
  }
 ],
 "metadata": {
  "kernelspec": {
   "display_name": "Julia 1.9.4",
   "language": "julia",
   "name": "julia-1.9"
  },
  "language_info": {
   "file_extension": ".jl",
   "mimetype": "application/julia",
   "name": "julia",
   "version": "1.9.4"
  }
 },
 "nbformat": 4,
 "nbformat_minor": 5
}
