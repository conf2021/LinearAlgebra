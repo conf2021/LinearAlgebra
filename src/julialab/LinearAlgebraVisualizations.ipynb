{
 "cells": [
  {
   "cell_type": "code",
   "execution_count": 1,
   "id": "9e5503bc-c7eb-4f3e-9c1b-f8035f860bcc",
   "metadata": {},
   "outputs": [
    {
     "name": "stderr",
     "output_type": "stream",
     "text": [
      "\u001b[32m\u001b[1m   Resolving\u001b[22m\u001b[39m package versions...\n",
      "\u001b[32m\u001b[1m  No Changes\u001b[22m\u001b[39m to `~/venv/Project.toml`\n",
      "\u001b[32m\u001b[1m  No Changes\u001b[22m\u001b[39m to `~/venv/Manifest.toml`\n",
      "\u001b[32m\u001b[1m   Resolving\u001b[22m\u001b[39m package versions...\n",
      "\u001b[32m\u001b[1m  No Changes\u001b[22m\u001b[39m to `~/venv/Project.toml`\n",
      "\u001b[32m\u001b[1m  No Changes\u001b[22m\u001b[39m to `~/venv/Manifest.toml`\n",
      "\u001b[32m\u001b[1m   Resolving\u001b[22m\u001b[39m package versions...\n",
      "\u001b[32m\u001b[1m  No Changes\u001b[22m\u001b[39m to `~/venv/Project.toml`\n",
      "\u001b[32m\u001b[1m  No Changes\u001b[22m\u001b[39m to `~/venv/Manifest.toml`\n"
     ]
    }
   ],
   "source": [
    "import Pkg\n",
    "Pkg.add(\"LinearAlgebra\")\n",
    "Pkg.add(\"Plots\")\n",
    "Pkg.add(\"PyCall\")\n",
    "\n"
   ]
  },
  {
   "cell_type": "code",
   "execution_count": 58,
   "id": "7433d463-216e-4101-9113-054aed11c556",
   "metadata": {},
   "outputs": [
    {
     "name": "stdout",
     "output_type": "stream",
     "text": [
      "\n",
      "=================== Hadamard ====================\n",
      "H8: 1/sqrt(2) times [1 1 1 1 1 1 1 1; 1 -1 1 -1 1 -1 1 -1; 1 1 -1 -1 1 1 -1 -1; 1 -1 -1 1 1 -1 -1 1; 1 1 1 1 -1 -1 -1 -1; 1 -1 1 -1 -1 1 -1 1; 1 1 -1 -1 -1 -1 1 1; 1 -1 -1 1 -1 1 1 -1]Conjecture: Every matrix size N that are multiples of 4.No systematic way to create it, up to 668, hvnt got that one yet."
     ]
    }
   ],
   "source": [
    "using LinearAlgebra\n",
    "using Plots\n",
    "\n",
    "\n",
    "#Helps visualize various Linear Algbera Transformations in the 2-d space.\n",
    "function main()\n",
    "    \n",
    "    # VisualizeAxb()\n",
    "    # VisualizeAxbVectorwise()\n",
    "    # VisualizeIdentity()\n",
    "    # VisualizeRotationAndInversion()\n",
    "    # VisualizationReflection()\n",
    "    # VisualizeTranspose()\n",
    "    # VisualizeShear()\n",
    "    # VisualizeLinearlyDependentVectors()\n",
    "    # VisualizeScaling()\n",
    "    # VisualizeCompositionRotateThenShear()\n",
    "    # VisualizeCompositionShearThenRotate()  \n",
    "    # VisualizeChangeOfBasis() \n",
    "    # VisualizeEigenValuesAndVectors()\n",
    "    \n",
    "    # FactorizeAEqualsCR()\n",
    "    # FactorizeAEqualsLU()\n",
    "    # FactorizeAEqualsQR()\n",
    "    # FactorizeSEqualsQλQTranspose()\n",
    "    # VectorSubSpaces()\n",
    "    # CalculateQTQEqualsI()\n",
    "    Hadamard()\n",
    "\n",
    "    #SquareMatricesInvQEqualsTransponseofQ\n",
    "    #FactorizeAEqualsXλXInv()\n",
    "    #FactorizeAEqualsUΣV()\n",
    "    #Test3D()\n",
    "    \n",
    "\n",
    "\n",
    "end\n",
    "main()"
   ]
  },
  {
   "cell_type": "code",
   "execution_count": 3,
   "id": "9f833bda-3048-4a9e-bfcf-97246058603d",
   "metadata": {},
   "outputs": [
    {
     "data": {
      "text/plain": [
       "VisualizeAxb (generic function with 1 method)"
      ]
     },
     "execution_count": 3,
     "metadata": {},
     "output_type": "execute_result"
    }
   ],
   "source": [
    "function VisualizeAxb()\n",
    "    \n",
    "    A=[2 1;1 1] \n",
    "    x= [1 , 1]\n",
    "    b = A*x\n",
    "    Visualize(A,x,b,\"dot product\")\n",
    "end"
   ]
  },
  {
   "cell_type": "code",
   "execution_count": 4,
   "id": "6f22c1fa-6ba8-4ebf-a351-7e958a52b538",
   "metadata": {},
   "outputs": [
    {
     "data": {
      "text/plain": [
       "VisualizeAxbVectorwise (generic function with 1 method)"
      ]
     },
     "execution_count": 4,
     "metadata": {},
     "output_type": "execute_result"
    }
   ],
   "source": [
    "function VisualizeAxbVectorwise()\n",
    "    A=[2 1;1 1] \n",
    "    x=[1,1]\n",
    "    b = x[1,1]*A[:, 1]+x[2,1]*A[:, 2]\n",
    "    Visualize(A,x,b,\"Vectorwise\")\n",
    "    display(\"All xs make up the column space C(A) of A\")\n",
    "end"
   ]
  },
  {
   "cell_type": "code",
   "execution_count": 5,
   "id": "b3f34cd1-52b8-416e-aa44-ea4008658735",
   "metadata": {},
   "outputs": [
    {
     "data": {
      "text/plain": [
       "VisualizeIdentity (generic function with 1 method)"
      ]
     },
     "execution_count": 5,
     "metadata": {},
     "output_type": "execute_result"
    }
   ],
   "source": [
    "function VisualizeIdentity()\n",
    "    A=[1 0;0 1]\n",
    "    x = [1,1]\n",
    "    b = A*x\n",
    "    title = \"2-d Identity Matrix as basis Vectors \"\n",
    "    display(title)\n",
    "    Visualize(A,x,b,title)\n",
    "end"
   ]
  },
  {
   "cell_type": "code",
   "execution_count": 6,
   "id": "161f4c13-94e7-4462-8670-e7b0d2ab4a14",
   "metadata": {},
   "outputs": [
    {
     "data": {
      "text/plain": [
       "VisualizeRotationAndInversion (generic function with 1 method)"
      ]
     },
     "execution_count": 6,
     "metadata": {},
     "output_type": "execute_result"
    }
   ],
   "source": [
    "function VisualizeRotationAndInversion()        \n",
    "    x = [1,1]\n",
    "    c = cosd(90)\n",
    "    s = sind(90)    \n",
    "    title = \"Rotated by 90 degrees Anticlockwise\"\n",
    "    display(title)\n",
    "    A=[c -s;s c]\n",
    "    b = A*x\n",
    "    Visualize(A,x,b,title)\n",
    "    B = inv(A)\n",
    "    x = b\n",
    "    b = B*x\n",
    "    #A = B*A (A Inverse times A gives Identity). This helps visualize what inversion does to the basis vectors, leads to a counter clockwise rotation\n",
    "    #Visualize(A,x,b,title)\n",
    "    title = \"Inversion: counter clockwise 90 deg. rotaion back.\"\n",
    "    display(title)\n",
    "    Visualize(B,x,b,title)    \n",
    "end"
   ]
  },
  {
   "cell_type": "code",
   "execution_count": 7,
   "id": "cb714cf4-8e99-487e-82bd-4fb10cffbfd5",
   "metadata": {},
   "outputs": [
    {
     "data": {
      "text/plain": [
       "VisualizationReflection (generic function with 1 method)"
      ]
     },
     "execution_count": 7,
     "metadata": {},
     "output_type": "execute_result"
    }
   ],
   "source": [
    "function VisualizationReflection()\n",
    "    \n",
    "display(\" Q: is reflection matrix, has Orthonormal Columns, also QtQ=I\")\n",
    "Q = [cosd(45) sind(45);sind(45) -cosd(45)]\n",
    "x = [1,1]\n",
    "b = Q*x\n",
    "Visualize(Q,x ,b,\"Reflection Matrix\")\n",
    " \n",
    "end"
   ]
  },
  {
   "cell_type": "code",
   "execution_count": 8,
   "id": "a58d3903-0b67-40f0-afaa-1858a2a8644d",
   "metadata": {},
   "outputs": [
    {
     "data": {
      "text/plain": [
       "VisualizeShear (generic function with 1 method)"
      ]
     },
     "execution_count": 8,
     "metadata": {},
     "output_type": "execute_result"
    }
   ],
   "source": [
    "function VisualizeShear()        \n",
    "    x = [1,1]    \n",
    "    title = \"Shear\"\n",
    "    display(title)\n",
    "    A=[1 1;0 1]\n",
    "    b = A*x\n",
    "    Visualize(A,x,b,title)        \n",
    "end"
   ]
  },
  {
   "cell_type": "code",
   "execution_count": 9,
   "id": "073f4c3c-ff3e-4117-940f-a76f66619674",
   "metadata": {},
   "outputs": [
    {
     "data": {
      "text/plain": [
       "VisualizeTranspose (generic function with 1 method)"
      ]
     },
     "execution_count": 9,
     "metadata": {},
     "output_type": "execute_result"
    }
   ],
   "source": [
    "function VisualizeTranspose()        \n",
    "    x = [1,1]    \n",
    "    title = \"A before Transpose\"\n",
    "    display(title)\n",
    "    A=[1 2;3 0]\n",
    "    display(A)\n",
    "    b = A*x\n",
    "    Visualize(A,x,b,title) \n",
    "    title = \"A after Transpose\"\n",
    "    display(title)\n",
    "    B = Transpose(A)\n",
    "    display(B)\n",
    "    b = B*x\n",
    "    Visualize(B,x,b,title) \n",
    "end"
   ]
  },
  {
   "cell_type": "code",
   "execution_count": 10,
   "id": "bad314fd-923b-4724-8a43-8801b9b35d1d",
   "metadata": {},
   "outputs": [
    {
     "data": {
      "text/plain": [
       "VisualizeLinearlyDependentVectors (generic function with 1 method)"
      ]
     },
     "execution_count": 10,
     "metadata": {},
     "output_type": "execute_result"
    }
   ],
   "source": [
    "function VisualizeLinearlyDependentVectors()        \n",
    "    x = [1,1]    \n",
    "    display(\"1-d span of A, Inverse does not exist, determinant 0. Singular Matrix.\")\n",
    "    title = \"Linearly Dependent Vectors Rank of 1\\n squishes the space into a line.\"\n",
    "    display(title)\n",
    "    A=[2 -2;1 -1]\n",
    "    b = A*x\n",
    "    Visualize(A,x,b,title)   \n",
    "    display(\"Notice that both Column Rank and Row Rank are 1, this is always be the case.\")\n",
    "end"
   ]
  },
  {
   "cell_type": "code",
   "execution_count": 11,
   "id": "e4561f1d-ec0f-42f5-9b6f-b1e7ba931402",
   "metadata": {},
   "outputs": [
    {
     "data": {
      "text/plain": [
       "VisualizeScaling (generic function with 1 method)"
      ]
     },
     "execution_count": 11,
     "metadata": {},
     "output_type": "execute_result"
    }
   ],
   "source": [
    "function VisualizeScaling()\n",
    "    x = [1,1]    \n",
    "    title = \"Scaled -3x \"\n",
    "    display(title)\n",
    "    A=-3*[1 0;0 1]\n",
    "    b = A*x\n",
    "    Visualize(A,x,b,title)        \n",
    "end"
   ]
  },
  {
   "cell_type": "code",
   "execution_count": 12,
   "id": "995d8da1-36ee-417d-a718-42d601af0206",
   "metadata": {},
   "outputs": [
    {
     "data": {
      "text/plain": [
       "VisualizeCompositionRotateThenShear (generic function with 1 method)"
      ]
     },
     "execution_count": 12,
     "metadata": {},
     "output_type": "execute_result"
    }
   ],
   "source": [
    "function VisualizeCompositionRotateThenShear()\n",
    "    x = [1,1]\n",
    "    c = cosd(90)\n",
    "    s = sind(90)    \n",
    "    title = \"A: Composition of 90 degress, \\n    anti-clockwise rot. then shearing.\\n \"\n",
    "    display(title)\n",
    "    A=[c -s;s c] #Rotate\n",
    "    B=[1 1;0 1]\n",
    "    b = B*(A*x)\n",
    "    Visualize(B*A,x,b,title)      \n",
    "end"
   ]
  },
  {
   "cell_type": "code",
   "execution_count": 13,
   "id": "7d32eb16-b37e-44e4-b8dd-6d402c4b7edb",
   "metadata": {},
   "outputs": [
    {
     "data": {
      "text/plain": [
       "VisualizeCompositionShearThenRotate (generic function with 1 method)"
      ]
     },
     "execution_count": 13,
     "metadata": {},
     "output_type": "execute_result"
    }
   ],
   "source": [
    "function VisualizeCompositionShearThenRotate()\n",
    "    x = [1,1]\n",
    "    c = cosd(90)\n",
    "    s = sind(90)    \n",
    "    title = \"A: Composition of Shearing then  90 degrees, \\n anti-clockwise rotation.\\n \"\n",
    "    display(title)\n",
    "    A=[c -s;s c] #Rotate\n",
    "    B=[1 1;0 1] #Shear\n",
    "    b = A*(B*x)\n",
    "    Visualize(A*B,x,b,title)      \n",
    "end"
   ]
  },
  {
   "cell_type": "code",
   "execution_count": 14,
   "id": "265d1c3c-cd13-4deb-b6d9-5a7c3fafe837",
   "metadata": {},
   "outputs": [
    {
     "data": {
      "text/plain": [
       "VisualizeChangeOfBasis (generic function with 1 method)"
      ]
     },
     "execution_count": 14,
     "metadata": {},
     "output_type": "execute_result"
    }
   ],
   "source": [
    "function VisualizeChangeOfBasis()\n",
    "    x = [1,1] \n",
    "    title = \"Change of Basis to [1 2];[0 1]\"\n",
    "    display(title)\n",
    "    A=[1 2;0 1] #New basis\n",
    "    b = A*x\n",
    "    Visualize(A,x,b,title)      \n",
    "end"
   ]
  },
  {
   "cell_type": "code",
   "execution_count": 15,
   "id": "1bbf6fde-efab-460a-8ae3-54d335680059",
   "metadata": {},
   "outputs": [
    {
     "data": {
      "text/plain": [
       "VisualizeEigenValuesAndVectors (generic function with 1 method)"
      ]
     },
     "execution_count": 15,
     "metadata": {},
     "output_type": "execute_result"
    }
   ],
   "source": [
    "function VisualizeEigenValuesAndVectors()\n",
    "    \n",
    "\n",
    "    x =[-2, 1]\n",
    "    title= \"[-2, 1]: Eigen Vector of A, Eigen Value -1\"\n",
    "    display(title)\n",
    "     A=[1 4;2 3]\n",
    "    b = A*x\n",
    "    Visualize(A,x,b,title)\n",
    "\n",
    "    x = [1 ,1]\n",
    "    title= \"[1 ,1]: Eigen Vector of A, Eigen Value 5\"\n",
    "    display(title)  \n",
    "    b = A*x\n",
    "    Visualize(A,x,b,title)   \n",
    "    \n",
    "    x = [-1, 1]\n",
    "    title= \"[-1, 1] is not an Eigen Vector of A.\"\n",
    "    display(title)\n",
    "    b = A*x\n",
    "    Visualize(A,x,b,title)   \n",
    "end"
   ]
  },
  {
   "cell_type": "code",
   "execution_count": 16,
   "id": "1975b6be-995d-422e-a724-8371cb23574d",
   "metadata": {},
   "outputs": [
    {
     "data": {
      "text/plain": [
       "Visualize (generic function with 1 method)"
      ]
     },
     "execution_count": 16,
     "metadata": {},
     "output_type": "execute_result"
    }
   ],
   "source": [
    "function Visualize(A,x,b,title)\n",
    "    \n",
    "    print(\"Matrix A:\")\n",
    "    display(A)\n",
    "    print(\"Determinant of A:\")\n",
    "    display(det(A))\n",
    "    print(\"Vector x:\")\n",
    "    display(x)\n",
    "    print(\"Vector b:\")\n",
    "    display(b)\n",
    "    gridneg = -6\n",
    "    gridpos = 6\n",
    "    plt = plot( grid=true, aspect_ratio = :equal, xlims=(gridneg,gridpos), ylims=(gridneg,gridpos), gridlinewidth=0.5,legend=:bottomright )\n",
    "    plot!([0, A[1, 1]], [0, A[2, 1]], label=\"Vector A₁\", linewidth=2, arrow=true)\n",
    "    plot!([0, A[1, 2]], [0, A[2, 2]], label=\"Vector A₂\", linewidth=2, arrow=true)\n",
    "    plot!([0, x[1, 1]], [0, x[2, 1]], label=\"Vector x\", linewidth=2, arrow=true, )\n",
    "    plot!([0, b[1, 1]], [0, b[2, 1]], label=\"Vector b\", linewidth=2, arrow=true)\n",
    "    xticks!(gridneg:1:gridpos)\n",
    "    yticks!(gridneg:1:gridpos)\n",
    "    xlabel!(\"x₁\")\n",
    "    ylabel!(\"x₂\")\n",
    "    title!(\"Ax = b, \" * title)\n",
    "    gui()\n",
    "    display(plt)\n",
    "\n",
    "end"
   ]
  },
  {
   "cell_type": "code",
   "execution_count": 17,
   "id": "d812b3b8-7aca-42e3-b0ab-7a987d335d83",
   "metadata": {},
   "outputs": [
    {
     "data": {
      "text/plain": [
       "FactorizeAEqualsCR (generic function with 1 method)"
      ]
     },
     "execution_count": 17,
     "metadata": {},
     "output_type": "execute_result"
    }
   ],
   "source": [
    "function FactorizeAEqualsCR()\n",
    "\n",
    "    function_name = nameof(FactorizeAEqualsCR)\n",
    "    print(\"\\n=================== $function_name ====================\\n\")\n",
    "    A=[2 1 3; 3 1 4;5 7 12]\n",
    "    C=[2 1;3 1;5 7]\n",
    "    R=[1 0 1;0 1 1]\n",
    "    A = C*R\n",
    "\n",
    "    print(\"A:\")\n",
    "    display(A)\n",
    "    print(\"Rank of A:\" , rank(A))\n",
    "    print(\"\\nC (col basis):\")\n",
    "    display(C)\n",
    "    print(\"R (row basis) also Row reduced Echelon Form:\")\n",
    "    display(R)\n",
    "    print(\"Columns space of A transpose is Row space of A\")\n",
    "    display(transpose(A))\n",
    "    print(\"A=CUR' is another form where R rows are from A\")\n",
    "    \n",
    "end"
   ]
  },
  {
   "cell_type": "code",
   "execution_count": 18,
   "id": "0aa09845-3c8b-4196-a43b-16c82feab81a",
   "metadata": {},
   "outputs": [
    {
     "data": {
      "text/plain": [
       "FactorizeAEqualsLU (generic function with 1 method)"
      ]
     },
     "execution_count": 18,
     "metadata": {},
     "output_type": "execute_result"
    }
   ],
   "source": [
    "function FactorizeAEqualsLU()\n",
    "#\n",
    " function_name = nameof(FactorizeAEqualsLU)\n",
    " print(\"\\n=================== $function_name ====================\\n\")\n",
    "display( \"A = LU\") #A = [2 3;4 7]\n",
    "U = [2 3;0 1]\n",
    "# to get to U I multiplied 2 times the first row and subtracted the row from the second row.\n",
    "#A = LU\n",
    "#L = [1 0; X 1]\n",
    "# is that 2\n",
    "L = [1 0; 2 1]\n",
    "A = L*U\n",
    "display(\"A: \")\n",
    "display(A)\n",
    "display(L)\n",
    "display(U)\n",
    "end"
   ]
  },
  {
   "cell_type": "code",
   "execution_count": 19,
   "id": "e6dee1fe-812d-47d9-8720-29d7caceae8f",
   "metadata": {},
   "outputs": [
    {
     "data": {
      "text/plain": [
       "FactorizeAEqualsQR (generic function with 1 method)"
      ]
     },
     "execution_count": 19,
     "metadata": {},
     "output_type": "execute_result"
    }
   ],
   "source": [
    "function FactorizeAEqualsQR()\n",
    "#\"Least square is the application\"\n",
    "#\"Q is orthogonal , often has orthonormal colums Gram - Schmitt.\"\n",
    "end"
   ]
  },
  {
   "cell_type": "code",
   "execution_count": 27,
   "id": "e32dc1ca-150d-4146-bf5c-4b0a296ccaef",
   "metadata": {},
   "outputs": [
    {
     "data": {
      "text/plain": [
       "FactorizeSEqualsQλQTranspose (generic function with 1 method)"
      ]
     },
     "execution_count": 27,
     "metadata": {},
     "output_type": "execute_result"
    }
   ],
   "source": [
    "function FactorizeSEqualsQλQTranspose()\n",
    " function_name = nameof(FactorizeSEqualsQλQTranspose)\n",
    " print(\"\\n=================== $function_name ====================\\n\")\n",
    "#\"Symmetric matrices are the kings of Linear Alebra - GS\"\n",
    "#\"Q are Orthonormal matrices, are the queens of Linear Algebra-GS.\n",
    "#Has the Eigen vectors\"\n",
    "#\"λ is diagonal Eigen value matrix\"\n",
    "#[q0 to qn][diagnol λ eigen values][q0 to qn transpose]\n",
    "#Q Eigen vectors are orthogonal or can be chosen as orthonormal\n",
    "# Key point is ( implicit), there are n of them.The matrix can be diagonalized.\n",
    "# Symetric matrices, λ are all real.\n",
    "#(Qλ(transpose(Q) = Sum of Rank 1.\n",
    "display(\"work in progress, incorrect..Symmetric Matrices:\")\n",
    "λ = [-1 0;0 1]\n",
    "Q = [-1  1; 1 1] \n",
    "Qt = transpose(Q)\n",
    "S = (Q*λ)*Qt\n",
    "\n",
    "print(\" Q \")\n",
    "display(Q)\n",
    "    \n",
    "print(\" λ \")    \n",
    "display(λ)\n",
    "    \n",
    "print(\" Q*λ \")        \n",
    "display(Q*λ)\n",
    "\n",
    "print(\" Qt\")  \n",
    "display(Qt)\n",
    "    \n",
    "print(\" S = QλTranspose(Q) \")    \n",
    "display(S)\n",
    "\n",
    "display(S*Q[:,1])\n",
    "display(λ[1,1]*Q[:,1]) \n",
    "end"
   ]
  },
  {
   "cell_type": "code",
   "execution_count": 21,
   "id": "4d899d55-9787-4dc3-a21f-0aa201e80223",
   "metadata": {},
   "outputs": [
    {
     "data": {
      "text/plain": [
       "FactorizeAEqualsXλXInv (generic function with 1 method)"
      ]
     },
     "execution_count": 21,
     "metadata": {},
     "output_type": "execute_result"
    }
   ],
   "source": [
    "function FactorizeAEqualsXλXInv()\n",
    "     function_name = nameof(my_function)\n",
    " print(\"\\n=================== $function_name ====================\\n\")\n",
    "end"
   ]
  },
  {
   "cell_type": "code",
   "execution_count": 22,
   "id": "96cf29ca-75b4-469e-b49f-3fc9a0306ac1",
   "metadata": {},
   "outputs": [
    {
     "data": {
      "text/plain": [
       "FactorizeAEqualsUΣVInv (generic function with 1 method)"
      ]
     },
     "execution_count": 22,
     "metadata": {},
     "output_type": "execute_result"
    }
   ],
   "source": [
    "function FactorizeAEqualsUΣVInv()\n",
    "  function_name = nameof(my_function)\n",
    " print(\"\\n=================== $function_name ====================\\n\")\n",
    "# Singular Value Decomposition\n",
    "# = U and V are two orthogonal Matrices, Orthogonal Times diagonal times Orthogonal\n",
    "# works for all matrices\n",
    "display(\"Singular Value Decomposition\")\n",
    "end  \n",
    "    "
   ]
  },
  {
   "cell_type": "code",
   "execution_count": 23,
   "id": "c391984b-6e03-4760-9bd8-6f77e07ac93e",
   "metadata": {},
   "outputs": [
    {
     "data": {
      "text/plain": [
       "Test3D (generic function with 1 method)"
      ]
     },
     "execution_count": 23,
     "metadata": {},
     "output_type": "execute_result"
    }
   ],
   "source": [
    "function Test3D()\n",
    "\n",
    "end\n"
   ]
  },
  {
   "cell_type": "code",
   "execution_count": 42,
   "id": "090df4a4-36ec-40e3-a474-2b3847e13587",
   "metadata": {},
   "outputs": [
    {
     "data": {
      "text/plain": [
       "VectorSubSpaces (generic function with 1 method)"
      ]
     },
     "execution_count": 42,
     "metadata": {},
     "output_type": "execute_result"
    }
   ],
   "source": [
    "function VectorSubSpaces()\n",
    "    function_name = nameof(VectorSubSpaces)\n",
    "    print(\"\\n=================== $function_name ====================\\n\")\n",
    "\n",
    "    \n",
    "    A = [1 2 4; 2 4 8]\n",
    "    print(\"Ax = b, A: \", A)\n",
    "    # Get the number of rows and columns\n",
    "    m, n = size(A)\n",
    "    r = rank(A)\n",
    "\n",
    "    # Display the result\n",
    "    print(\"\\nNumber of rows: $m\")\n",
    "    print(\"\\nNumber of columns: $n\")\n",
    "\n",
    "    x = [2;-1;0]\n",
    "    b = A*x\n",
    "    print(\"\\nRank of A: \" , rank(A))\n",
    "    print(\"\\nx: \", x) \n",
    "    print(\"\\nb: \", b)\n",
    "    print(\"\\ndim C(A)) = $r.\" )\n",
    "    print(\"\\ndim N(transpose(A)) $m-$r.\\n\")\n",
    "\n",
    "    B = transpose(A)\n",
    "    print(\"\\nB = transpose(A), By = c, B: \", B)\n",
    "    print(\"\\nNumber of rows: $m\")\n",
    "    print(\"\\nNumber of columns: $n\")\n",
    "    m, n = size(B)\n",
    "    r = rank(B)\n",
    "    y=[-2, 1]\n",
    "    c = B*y\n",
    "    print(\"\\ny: \"  , y)\n",
    "    print(\"\\nc: \" , c)\n",
    "    print(\"\\ndim C(transpose(A)) = $r.\" )\n",
    "    print(\"\\ndim N(A) $n-$r.\")\n",
    "end\n"
   ]
  },
  {
   "cell_type": "code",
   "execution_count": 43,
   "id": "e108d95c-c883-4003-b0a0-e9f01157d833",
   "metadata": {},
   "outputs": [
    {
     "data": {
      "text/plain": [
       "CalculateQTQEqualsI (generic function with 1 method)"
      ]
     },
     "execution_count": 43,
     "metadata": {},
     "output_type": "execute_result"
    }
   ],
   "source": [
    "function CalculateQTQEqualsI()\n",
    "    \n",
    "function_name = nameof(CalculateQTQEqualsI)\n",
    "print(\"\\n=================== $function_name ====================\\n\")\n",
    "    \n",
    "display(\" Q: is square, has Orthonormal Columns, then QtQ=I\")\n",
    "Q = [0  -1;-1 0]\n",
    "Qt = transpose(Q)\n",
    "A = Qt*Q\n",
    "Visualize(Q,[0,0] ,[0,0] ,\"Orthonormal Vectors\")\n",
    "Visualize(A,[0,0] ,[0,0] ,\"Identity\")\n",
    "\n",
    "display(\" Q: is square, rotation matrix, has Orthonormal Columns, then QtQ=I\")\n",
    "Q = [cosd(45) -sind(45);sind(45) cosd(45)]\n",
    "Qt = transpose(Q)\n",
    "A = Qt*Q\n",
    "Visualize(Q,[0,0] ,[0,0] ,\"Orthonormal Vectors\")\n",
    "Visualize(A,[0,0] ,[0,0] ,\"Identity\")\n",
    "\n",
    "display(\" Q: is reflection matrix, has Orthonormal Columns, then QtQ=I\")\n",
    "Q = [cosd(45) sind(45);sind(45) -cosd(45)]\n",
    "Qt = transpose(Q)\n",
    "A = Qt*Q\n",
    "Visualize(Q,[0,0] ,[0,0] ,\"Orthonormal Vectors\")\n",
    "Visualize(A,[0,0] ,[0,0] ,\"Identity\")\n",
    " \n",
    "    \n",
    "end\n"
   ]
  },
  {
   "cell_type": "code",
   "execution_count": 45,
   "id": "f666b729-036c-4571-b616-83f9e447c0b4",
   "metadata": {},
   "outputs": [
    {
     "data": {
      "text/plain": [
       "HouseholderReflection (generic function with 1 method)"
      ]
     },
     "execution_count": 45,
     "metadata": {},
     "output_type": "execute_result"
    }
   ],
   "source": [
    "function HouseholderReflection()\n",
    "function_name = nameof(HouseholderReflection)\n",
    "print(\"\\n=================== $function_name ====================\\n\")\n",
    "print(\"Family of symmetric orthogonal matrices: H = I -2UUt. Starts with UtU = 1.\")\n",
    "print(\"HtH = sqr(H) - symmetric \")\n",
    "   \n",
    "end"
   ]
  },
  {
   "cell_type": "code",
   "execution_count": 59,
   "id": "9aae0c34-b883-4d4b-9474-c4ea906b89cd",
   "metadata": {},
   "outputs": [
    {
     "data": {
      "text/plain": [
       "Hadamard (generic function with 1 method)"
      ]
     },
     "execution_count": 59,
     "metadata": {},
     "output_type": "execute_result"
    }
   ],
   "source": [
    "function Hadamard()\n",
    "function_name = nameof(Hadamard)\n",
    "print(\"\\n=================== $function_name ====================\\n\")\n",
    "\n",
    "sqrt2 = sqrt(2)\n",
    "H2 = [1 1;1 -1]\n",
    "H4 = [H2 H2;H2 -H2]\n",
    "H8 = [H4 H4;H4 -H4]\n",
    "print(\"H8: 1/sqrt(2) times \", H8)\n",
    "print(\"Conjecture: Every matrix size N that are multiples of 4.\")\n",
    "print(\"No systematic way to create it, up to 1964\");   \n",
    "end"
   ]
  },
  {
   "cell_type": "code",
   "execution_count": null,
   "id": "b5fd4f69-003a-4be6-83d5-37aa8b5406aa",
   "metadata": {},
   "outputs": [],
   "source": []
  },
  {
   "cell_type": "code",
   "execution_count": null,
   "id": "3fe31dc4-b71a-4248-b7d9-1e5e64930207",
   "metadata": {},
   "outputs": [],
   "source": []
  }
 ],
 "metadata": {
  "kernelspec": {
   "display_name": "Julia 1.9.4",
   "language": "julia",
   "name": "julia-1.9"
  },
  "language_info": {
   "file_extension": ".jl",
   "mimetype": "application/julia",
   "name": "julia",
   "version": "1.9.4"
  }
 },
 "nbformat": 4,
 "nbformat_minor": 5
}
